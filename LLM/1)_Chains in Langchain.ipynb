{
  "cells": [
    {
      "cell_type": "markdown",
      "metadata": {
        "id": "tKH3BQVkfdwB"
      },
      "source": [
        "## Concepts we are going over in this notebook:\n",
        "\n",
        "- Chains\n",
        "- Sequential Chains"
      ]
    },
    {
      "cell_type": "code",
      "execution_count": null,
      "metadata": {
        "id": "N6M7KP4hGlnD"
      },
      "outputs": [],
      "source": [
        "!pip install -qU langchain openai"
      ]
    },
    {
      "cell_type": "code",
      "execution_count": null,
      "metadata": {
        "id": "DYkRnDd2XlBg"
      },
      "outputs": [],
      "source": [
        "from langchain import OpenAI, PromptTemplate\n",
        "from langchain.chains import LLMChain, LLMMathChain, TransformChain, SequentialChain, SimpleSequentialChain"
      ]
    },
    {
      "cell_type": "code",
      "execution_count": null,
      "metadata": {
        "id": "Jwf7nu8KXprM"
      },
      "outputs": [],
      "source": [
        "OPENAI_API_KEY = \"\""
      ]
    },
    {
      "cell_type": "code",
      "execution_count": null,
      "metadata": {
        "id": "x-6duiz2XuyT"
      },
      "outputs": [],
      "source": [
        "llm = OpenAI(temperature=0, openai_api_key=OPENAI_API_KEY)"
      ]
    },
    {
      "cell_type": "code",
      "execution_count": null,
      "metadata": {
        "colab": {
          "base_uri": "https://localhost:8080/"
        },
        "id": "DIgOvKn87OXu",
        "outputId": "4fc18f3c-95f0-4765-f932-ec3543e4142a"
      },
      "outputs": [
        {
          "name": "stdout",
          "output_type": "stream",
          "text": [
            "Your job is to come up with a classic dish from the area that the users suggests.\n",
            "{user_location}\n",
            "\n",
            "YOUR RESPONSE:\n",
            "\n"
          ]
        }
      ],
      "source": [
        "template = \"\"\"Your job is to come up with a classic dish from the area that the users suggests.\n",
        "{user_location}\n",
        "\n",
        "YOUR RESPONSE:\n",
        "\"\"\"\n",
        "prompt_template = PromptTemplate(input_variables=[\"user_location\"], template=template)\n",
        "\n",
        "location_chain = LLMChain(llm=llm, prompt=prompt_template)\n",
        "\n",
        "print(prompt_template.template)"
      ]
    },
    {
      "cell_type": "code",
      "execution_count": null,
      "metadata": {
        "colab": {
          "base_uri": "https://localhost:8080/",
          "height": 35
        },
        "id": "6wFP61DZh0T8",
        "outputId": "f1266b4f-8687-49b5-e17d-fba1fad3ce16"
      },
      "outputs": [
        {
          "data": {
            "application/vnd.google.colaboratory.intrinsic+json": {
              "type": "string"
            },
            "text/plain": [
              "'\\nOne classic dish from Croatia is Sarma, which is a dish of cabbage leaves stuffed with a mixture of minced pork, beef, and rice. It is usually served with a side of mashed potatoes or polenta.'"
            ]
          },
          "execution_count": 14,
          "metadata": {},
          "output_type": "execute_result"
        }
      ],
      "source": [
        "location_chain.run('croatia')"
      ]
    },
    {
      "cell_type": "code",
      "execution_count": null,
      "metadata": {
        "id": "tfoawQm37lBw"
      },
      "outputs": [],
      "source": [
        "location_chain = LLMChain(llm=llm, prompt=prompt_template)\n",
        "\n",
        "template = \"\"\"Given a meal, give a short and simple recipe on how to make that dish at home.\n",
        "% MEAL\n",
        "{user_meal}\n",
        "\n",
        "YOUR RESPONSE:\n",
        "\"\"\"\n",
        "prompt_template = PromptTemplate(input_variables=[\"user_meal\"], template=template)\n",
        "\n",
        "meal_chain = LLMChain(llm=llm, prompt=prompt_template)"
      ]
    },
    {
      "cell_type": "code",
      "execution_count": null,
      "metadata": {
        "id": "JcTJR9DH7lJJ"
      },
      "outputs": [],
      "source": [
        "template = \"\"\"Given a meal, give the macronutrients of that meal.\n",
        "% MEAL\n",
        "{user_meal}\n",
        "\n",
        "YOUR RESPONSE:\n",
        "\"\"\"\n",
        "prompt_template = PromptTemplate(input_variables=[\"user_meal\"], template=template)\n",
        "\n",
        "nutrients_nutrients = LLMChain(llm=llm, prompt=prompt_template)"
      ]
    },
    {
      "cell_type": "code",
      "execution_count": null,
      "metadata": {
        "id": "36GcyCWQ7lWW"
      },
      "outputs": [],
      "source": [
        "overall_chain = SimpleSequentialChain(chains=[location_chain, meal_chain, nutrients_nutrients], verbose=True)\n"
      ]
    },
    {
      "cell_type": "code",
      "execution_count": null,
      "metadata": {
        "colab": {
          "base_uri": "https://localhost:8080/"
        },
        "id": "u1Dg5ESg7lgX",
        "outputId": "5fabe319-eb43-4042-e2a3-cdf32ec4978a"
      },
      "outputs": [
        {
          "name": "stdout",
          "output_type": "stream",
          "text": [
            "\n",
            "\n",
            "\u001b[1m> Entering new SimpleSequentialChain chain...\u001b[0m\n",
            "\u001b[36;1m\u001b[1;3m\n",
            "Korean BBQ:\n",
            "\n",
            "Ingredients:\n",
            "- 2 lbs of thinly sliced beef\n",
            "- 2 tablespoons of sesame oil\n",
            "- 2 tablespoons of soy sauce\n",
            "- 2 tablespoons of honey\n",
            "- 2 cloves of garlic, minced\n",
            "- 2 tablespoons of brown sugar\n",
            "- 2 tablespoons of sesame seeds\n",
            "- Salt and pepper to taste\n",
            "\n",
            "Instructions:\n",
            "1. In a large bowl, combine the sesame oil, soy sauce, honey, garlic, brown sugar, sesame seeds, salt, and pepper.\n",
            "2. Add the beef to the marinade and mix until all the beef is evenly coated.\n",
            "3. Cover the bowl and let the beef marinate in the refrigerator for at least 1 hour.\n",
            "4. Preheat a grill or grill pan to medium-high heat.\n",
            "5. Grill the beef for 3-4 minutes per side, or until cooked through.\n",
            "6. Serve with steamed rice and your favorite sides. Enjoy!\u001b[0m\n",
            "\u001b[33;1m\u001b[1;3m\n",
            "Korean BBQ:\n",
            "\n",
            "Ingredients:\n",
            "- 2 lbs of thinly sliced beef\n",
            "- 2 tablespoons of sesame oil\n",
            "- 2 tablespoons of soy sauce\n",
            "- 2 tablespoons of honey\n",
            "- 2 cloves of garlic, minced\n",
            "- 2 tablespoons of brown sugar\n",
            "- 2 tablespoons of sesame seeds\n",
            "- Salt and pepper to taste\n",
            "\n",
            "Instructions:\n",
            "1. In a large bowl, mix together the sesame oil, soy sauce, honey, garlic, brown sugar, sesame seeds, salt, and pepper.\n",
            "2. Add the beef to the marinade and mix until all the beef is evenly coated.\n",
            "3. Cover the bowl and let the beef marinate in the refrigerator for at least 1 hour.\n",
            "4. Preheat a grill or grill pan to medium-high heat.\n",
            "5. Grill the beef for 3-4 minutes per side, or until cooked through.\n",
            "6. Serve with steamed rice and your favorite sides. Enjoy!\u001b[0m\n",
            "\u001b[38;5;200m\u001b[1;3mMacronutrients:\n",
            "- Protein: 48g\n",
            "- Fat: 24g\n",
            "- Carbohydrates: 24g\u001b[0m\n",
            "\n",
            "\u001b[1m> Finished chain.\u001b[0m\n",
            "Macronutrients:\n",
            "- Protein: 48g\n",
            "- Fat: 24g\n",
            "- Carbohydrates: 24g\n"
          ]
        }
      ],
      "source": [
        "review = overall_chain.run(\"Korea\")\n",
        "\n",
        "print(review)"
      ]
    }
  ],
  "metadata": {
    "colab": {
      "provenance": []
    },
    "kernelspec": {
      "display_name": "Python 3",
      "name": "python3"
    },
    "language_info": {
      "name": "python"
    }
  },
  "nbformat": 4,
  "nbformat_minor": 0
}
