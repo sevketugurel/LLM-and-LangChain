{
  "cells": [
    {
      "cell_type": "code",
      "execution_count": null,
      "metadata": {
        "id": "ALSfzcYpKewR"
      },
      "outputs": [],
      "source": [
        "!pip install -qU langchain openai tiktoken"
      ]
    },
    {
      "cell_type": "markdown",
      "metadata": {
        "id": "12VtazJEbvQm"
      },
      "source": [
        "## What you will learn\n",
        "\n",
        "- How to use memory in Langchain\n",
        "- ConversationalBufferMemory\n",
        "- ConversationSummaryBufferMemory"
      ]
    },
    {
      "cell_type": "code",
      "execution_count": 2,
      "metadata": {
        "id": "S5pkZd9Y8td-"
      },
      "outputs": [],
      "source": [
        "from langchain import OpenAI, PromptTemplate\n",
        "from langchain.chains import LLMChain, ConversationChain, LLMMathChain, TransformChain, SequentialChain, SimpleSequentialChain\n",
        "\n",
        "from langchain.chains.conversation.memory import ConversationBufferMemory, ConversationSummaryBufferMemory\n"
      ]
    },
    {
      "cell_type": "code",
      "execution_count": 3,
      "metadata": {
        "id": "PWnKwCsp84rR"
      },
      "outputs": [],
      "source": [
        "OPENAI_API_KEY = \"\""
      ]
    },
    {
      "cell_type": "markdown",
      "metadata": {
        "id": "2yRzxW1j-JSs"
      },
      "source": []
    },
    {
      "cell_type": "code",
      "execution_count": 4,
      "metadata": {
        "id": "nyH6W7r188pF"
      },
      "outputs": [],
      "source": [
        "llm = OpenAI(temperature=0, openai_api_key=OPENAI_API_KEY)"
      ]
    },
    {
      "cell_type": "markdown",
      "metadata": {
        "id": "CJDD_g3V-HFC"
      },
      "source": [
        "\n",
        "## ConversationBufferMemory\n"
      ]
    },
    {
      "cell_type": "code",
      "execution_count": 21,
      "metadata": {
        "id": "ciAxpCQH9BOe"
      },
      "outputs": [],
      "source": [
        "memory = ConversationBufferMemory()\n"
      ]
    },
    {
      "cell_type": "code",
      "execution_count": 22,
      "metadata": {
        "id": "RP-RVeZt9DUG"
      },
      "outputs": [],
      "source": [
        "conversation = ConversationChain(\n",
        "    llm=llm,\n",
        "    verbose=True,\n",
        "    memory=memory\n",
        ")"
      ]
    },
    {
      "cell_type": "code",
      "execution_count": null,
      "metadata": {
        "id": "m7WN5n_69FV3"
      },
      "outputs": [],
      "source": [
        "conversation.predict(input=\"Merhaba, benim adım Giray!\")"
      ]
    },
    {
      "cell_type": "code",
      "execution_count": null,
      "metadata": {
        "id": "4DuqfKfU9OQl"
      },
      "outputs": [],
      "source": [
        "conversation.predict(input=\"Benim adım ne?\")"
      ]
    },
    {
      "cell_type": "code",
      "execution_count": null,
      "metadata": {
        "id": "RYQ6BO1i9U5V"
      },
      "outputs": [],
      "source": [
        "conversation.predict(input=\"Bir maruzatım var, şahsım ve ben bir yazılımcı şakası dinlemek istiyor. En komik yazılımcı şakası yaz.\")"
      ]
    },
    {
      "cell_type": "code",
      "execution_count": null,
      "metadata": {
        "id": "xXNpayFZ9gtD"
      },
      "outputs": [],
      "source": [
        "conversation.predict(input=\"Yaptığın şaka neydi?\")"
      ]
    },
    {
      "cell_type": "code",
      "execution_count": null,
      "metadata": {
        "id": "1Lq3u8fL9o4e"
      },
      "outputs": [],
      "source": [
        "print(conversation.memory.buffer)"
      ]
    },
    {
      "cell_type": "markdown",
      "metadata": {
        "id": "IZd695dv9yhq"
      },
      "source": [
        "\n",
        "\n",
        "```\n",
        "# This is formatted as code\n",
        "```\n",
        "\n",
        "## *ConversationSummaryBufferMemory*\n",
        "\n",
        "---\n",
        "ConversationSummaryBufferMemory keeps a summary of the previous conversation\n",
        "\n"
      ]
    },
    {
      "cell_type": "code",
      "execution_count": 29,
      "metadata": {
        "id": "Er3kxFV4-EOW"
      },
      "outputs": [],
      "source": [
        "memory_summary = ConversationSummaryBufferMemory(llm=llm, max_token_limit=100)\n",
        "conversation_with_summary = ConversationChain(\n",
        "    llm=llm,\n",
        "    memory=ConversationSummaryBufferMemory(llm=llm, max_token_limit=40),\n",
        "    verbose=True\n",
        ")"
      ]
    },
    {
      "cell_type": "code",
      "execution_count": null,
      "metadata": {
        "id": "UXHLDNyc-0oi"
      },
      "outputs": [],
      "source": [
        "conversation_with_summary.predict(input=\"Merhaba ben Giray\")"
      ]
    },
    {
      "cell_type": "code",
      "execution_count": null,
      "metadata": {
        "id": "psUXUs7VCCh5"
      },
      "outputs": [],
      "source": [
        "conversation_with_summary.predict(input=\"Benim butik bir restorantım var.\")"
      ]
    },
    {
      "cell_type": "code",
      "execution_count": null,
      "metadata": {
        "id": "oN_hrVyAAS8c"
      },
      "outputs": [],
      "source": [
        "conversation_with_summary.predict(input=\"Bir müşteri geld, sonradan görme belli, iki kişi için 4 kişilik karışık kebap sipariş etti.\")"
      ]
    },
    {
      "cell_type": "code",
      "execution_count": null,
      "metadata": {
        "id": "o0nU1XIK_tzz"
      },
      "outputs": [],
      "source": [
        "conversation_with_summary.predict(input=\"Kebapların içinde altın tozu olmadığına emin olmanı istiyorum.\")"
      ]
    },
    {
      "cell_type": "code",
      "execution_count": null,
      "metadata": {
        "id": "QETHXHWu_0c8"
      },
      "outputs": [],
      "source": [
        "print(conversation_with_summary.memory.moving_summary_buffer)"
      ]
    }
  ],
  "metadata": {
    "colab": {
      "provenance": []
    },
    "kernelspec": {
      "display_name": "Python 3",
      "name": "python3"
    },
    "language_info": {
      "name": "python"
    }
  },
  "nbformat": 4,
  "nbformat_minor": 0
}
