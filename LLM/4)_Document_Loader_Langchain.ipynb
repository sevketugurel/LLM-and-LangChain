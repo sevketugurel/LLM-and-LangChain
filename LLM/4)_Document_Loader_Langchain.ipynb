{
  "cells": [
    {
      "cell_type": "markdown",
      "metadata": {
        "id": "ISBcUW2yfrHY"
      },
      "source": [
        "What you will learn:\n",
        "\n",
        "- Document Loading a PDF\n",
        "- Document Loading a CSV\n",
        "\n",
        "## Make sure you import the two files\n",
        "- state.txt\n",
        "- bank.pdf"
      ]
    },
    {
      "cell_type": "code",
      "execution_count": null,
      "metadata": {
        "id": "B39ZlaBxKQMa"
      },
      "outputs": [],
      "source": [
        "!pip install -qU langchain openai tiktoken faiss-cpu pypdf chromadb nltk"
      ]
    },
    {
      "cell_type": "code",
      "execution_count": 2,
      "metadata": {
        "id": "mudUjjQ8aTZd"
      },
      "outputs": [],
      "source": [
        "from langchain.document_loaders.csv_loader import CSVLoader\n",
        "from langchain.text_splitter import CharacterTextSplitter, RecursiveCharacterTextSplitter\n",
        "from langchain.vectorstores import FAISS\n",
        "from langchain.embeddings import OpenAIEmbeddings\n",
        "from langchain.document_loaders import TextLoader\n",
        "from langchain.llms import OpenAI\n",
        "import os\n",
        "from langchain.chains.summarize import load_summarize_chain\n",
        "from langchain.document_loaders import PyPDFLoader\n",
        "\n",
        "OPENAI_API_KEY = \"\"\n",
        "\n",
        "llm = OpenAI(temperature=0, openai_api_key=OPENAI_API_KEY)"
      ]
    },
    {
      "cell_type": "code",
      "execution_count": null,
      "metadata": {
        "id": "Q5wmxNFrZg7b"
      },
      "outputs": [],
      "source": [
        "loader = TextLoader('./sample_data/state.txt')\n",
        "\n",
        "documents = loader.load()\n",
        "\n",
        "print(documents)"
      ]
    },
    {
      "cell_type": "markdown",
      "metadata": {
        "id": "UTgQWFsx5aWp"
      },
      "source": [
        "**chunk_size:** the maximum size of your chunks (as measured by the length function).\n",
        "\n",
        "**chunk_overlap:** the maximum overlap between chunks. It can be nice to have some overlap to maintain some continuity between chunks (eg do a sliding window)."
      ]
    },
    {
      "cell_type": "code",
      "execution_count": null,
      "metadata": {
        "id": "ltU4TPWB4Cy5"
      },
      "outputs": [],
      "source": [
        "text_splitter = RecursiveCharacterTextSplitter(chunk_size=1000, chunk_overlap=0)\n",
        "\n",
        "texts = text_splitter.split_documents(documents)\n",
        "\n",
        "print(texts)"
      ]
    },
    {
      "cell_type": "code",
      "execution_count": null,
      "metadata": {
        "id": "6DciKc2x4QJu"
      },
      "outputs": [],
      "source": [
        "embeddings = OpenAIEmbeddings()\n",
        "\n",
        "db = FAISS.from_documents(texts, embeddings)\n",
        "\n",
        "retriever = db.as_retriever()\n",
        "\n",
        "docs = retriever.get_relevant_documents(\"what do you realize when you go indie?\")\n",
        "\n",
        "##\n",
        "print(docs)"
      ]
    },
    {
      "cell_type": "code",
      "execution_count": null,
      "metadata": {
        "id": "ShPm1526dKs3"
      },
      "outputs": [],
      "source": [
        "chain = load_summarize_chain(llm, chain_type=\"map_reduce\")\n",
        "chain.run(docs)"
      ]
    },
    {
      "cell_type": "code",
      "execution_count": null,
      "metadata": {
        "id": "WHNPrTgYe2uf"
      },
      "outputs": [],
      "source": [
        "loader = PyPDFLoader('./sample_data/bank.pdf')\n",
        "pages = loader.load_and_split()\n",
        "print(pages[0])"
      ]
    },
    {
      "cell_type": "code",
      "execution_count": null,
      "metadata": {
        "id": "bxwN0kzKfNjP"
      },
      "outputs": [],
      "source": [
        "from langchain.indexes import VectorstoreIndexCreator\n",
        "index = VectorstoreIndexCreator().from_loaders([loader])\n"
      ]
    },
    {
      "cell_type": "code",
      "execution_count": null,
      "metadata": {
        "id": "mfWvschtgV9N"
      },
      "outputs": [],
      "source": [
        "query = \"what is the statement date\"\n",
        "index.query(query)"
      ]
    }
  ],
  "metadata": {
    "colab": {
      "provenance": []
    },
    "kernelspec": {
      "display_name": "Python 3",
      "name": "python3"
    },
    "language_info": {
      "name": "python"
    }
  },
  "nbformat": 4,
  "nbformat_minor": 0
}
